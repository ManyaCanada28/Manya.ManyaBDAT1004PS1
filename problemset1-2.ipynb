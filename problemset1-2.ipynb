{
 "cells": [
  {
   "cell_type": "markdown",
   "id": "69503fab-1638-4953-8613-93ea44d6e4c4",
   "metadata": {
    "jp-MarkdownHeadingCollapsed": true
   },
   "source": [
    "## Data programming Problem Set 1\n",
    "\n",
    "\n",
    " "
   ]
  },
  {
   "cell_type": "markdown",
   "id": "b2bd7e99-10ad-472f-9e22-cbfba2e50e4e",
   "metadata": {},
   "source": [
    "# Question 1\n",
    "What data type is each of the following (evaluate where necessary)?\n",
    "- 5\n",
    "- 5.0\n",
    "- 5>1\n",
    "- '5'\n",
    "- 5*2\n",
    "- '5' * 2\n",
    "- '5' + '2'\n",
    "- 5/2\n",
    "- 5%2\n",
    "- {5, 2, 1}\n",
    "- 5 == 3\n",
    "- Pi (the number)\n"
   ]
  },
  {
   "cell_type": "code",
   "execution_count": 8,
   "id": "d3c56b66-8cb9-4e18-9b1a-801a3e839b0b",
   "metadata": {
    "editable": true,
    "slideshow": {
     "slide_type": ""
    },
    "tags": []
   },
   "outputs": [
    {
     "name": "stdout",
     "output_type": "stream",
     "text": [
      "type of 5 is  <class 'int'>\n",
      "<class 'float'>\n",
      "<class 'bool'>  the value is True\n",
      "<class 'str'>\n",
      "<class 'int'> The value is 10\n",
      "<class 'str'> The value is 55\n",
      "<class 'str'> The value is 52\n",
      "<class 'float'> The VAlue is 2.5\n",
      "<class 'int'> The VAlue is 1\n",
      "<class 'set'>\n",
      "<class 'bool'> The Value is False\n",
      "<class 'float'> 3.141592653589793\n"
     ]
    }
   ],
   "source": [
    "print(\"type of 5 is \",type(5))      \n",
    "print(type(5.0))     \n",
    "print(type(5 > 1),\" the value is\",5>1)   \n",
    "print(type('5'))    \n",
    "print(type(5 * 2),\"The value is\",5*2)   \n",
    "print(type('5' * 2),\"The value is\",\"5\" * 2)\n",
    "print(type('5' + '2'),\"The value is\",'5' + '2' ) \n",
    "print(type(5 / 2),\"The VAlue is\",5 / 2 )   \n",
    "print(type(5 % 2),\"The VAlue is\",5 % 2)   \n",
    "print(type({5, 2, 1}))\n",
    "print(type(5 == 3),\"The Value is\",(5 == 3))  \n",
    "import math\n",
    "print(type(math.pi),math.pi) \n",
    "\n"
   ]
  },
  {
   "cell_type": "markdown",
   "id": "c89975ae-624e-4798-9459-0f09f765f885",
   "metadata": {},
   "source": [
    " # Question 2"
   ]
  },
  {
   "cell_type": "markdown",
   "id": "80a8a331-aaab-431e-a16c-3e3c0683d36c",
   "metadata": {},
   "source": [
    "Write (and evaluate) python expressions that answer these questions:\n",
    "\n",
    "a. How many letters are there in 'Supercalifragilisticexpialidocious'?  \n",
    "b. Does 'Supercalifragilisticexpialidocious' contain 'ice' as a substring?  \n",
    "c. Which of the following words is the longest: Supercalifragilisticexpialidocious, Honorificabilitudinitatibus, or Bababadalgharaghtakamminarronnkonn?\n",
    "d. Which composer comes first in the dictionary: 'Berlioz', 'Borodin', 'Brian', 'Bartok', 'Bellini', 'Buxtehude', 'Bernstein'. Which one comes last?\n"
   ]
  },
  {
   "cell_type": "code",
   "execution_count": 9,
   "id": "658a9f28-59f9-4f3e-ad87-0cd305dbfe96",
   "metadata": {},
   "outputs": [
    {
     "name": "stdout",
     "output_type": "stream",
     "text": [
      "the letter in 'Supercalifragilisticexpialidocious' is  34\n"
     ]
    }
   ],
   "source": [
    "# Question 2 a\n",
    "\n",
    "print(\"the letter in 'Supercalifragilisticexpialidocious' is \" ,len(\"Supercalifragilisticexpialidocious\"))"
   ]
  },
  {
   "cell_type": "code",
   "execution_count": 10,
   "id": "59c8685a-12b6-448d-a130-fbe7ee72c11c",
   "metadata": {},
   "outputs": [
    {
     "name": "stdout",
     "output_type": "stream",
     "text": [
      "Yes this word includes ice in it\n"
     ]
    }
   ],
   "source": [
    "# Question 2 b\n",
    "if 'ice'in \"Supercalifragilisticexpialidocious\":\n",
    "    print(\"Yes this word includes ice in it\")\n",
    "    "
   ]
  },
  {
   "cell_type": "code",
   "execution_count": 11,
   "id": "88a06864-71d5-4966-bdfe-aab8c1c8a3bc",
   "metadata": {},
   "outputs": [
    {
     "name": "stdout",
     "output_type": "stream",
     "text": [
      "The longest words are \n",
      "Supercalifragilisticexpialidocious\n",
      "Bababadalgharaghtakamminarronnkonn\n"
     ]
    }
   ],
   "source": [
    "# Question 2 c\n",
    "myList = ['Supercalifragilisticexpialidocious', 'Honorificabilitudinitatibus', 'Bababadalgharaghtakamminarronnkonn']\n",
    "maxSize = 0\n",
    "\n",
    "for i in myList :\n",
    "    if len(i) > maxSize:\n",
    "        maxSize=len(i)\n",
    "\n",
    "print(\"The longest words are \")\n",
    "for i in myList :\n",
    "    if len(i) == maxSize:\n",
    "        print(i)\n",
    "\n",
    "    \n",
    "\n",
    "\n",
    "\n"
   ]
  },
  {
   "cell_type": "code",
   "execution_count": 12,
   "id": "00fb6935-6009-4ae1-8392-4169d71b9706",
   "metadata": {},
   "outputs": [
    {
     "name": "stdout",
     "output_type": "stream",
     "text": [
      "The firts and the last composer is  Bartok and Buxtehude\n"
     ]
    }
   ],
   "source": [
    "# Question 2 d\n",
    "composers = ['Berlioz', 'Borodin', 'Brian', 'Bartok', 'Bellini', 'Buxtehude', 'Bernstein']\n",
    "sorted_composers = sorted(composers)\n",
    "first_composer = sorted_composers[0]\n",
    "last_composer = sorted_composers[-1]\n",
    "print(\"The firts and the last composer is \",first_composer,\"and\", last_composer)"
   ]
  },
  {
   "cell_type": "markdown",
   "id": "8b9f2dd2-0f7b-4f67-a5d3-94cdc56c2828",
   "metadata": {},
   "source": [
    "# Question 3"
   ]
  },
  {
   "cell_type": "markdown",
   "id": "15720c7b-5e54-4dc2-8a67-cee5e9efd2ef",
   "metadata": {},
   "source": [
    "Implement function triangleArea(a,b,c) that takes as input the lengths of the 3 sides of a triangle and returns the area of the triangle. \n",
    "By Heron's formula, the area of a triangle with side lengths a, b, and c is s(s-a)(s-b)(s-c), where\n",
    "s=(a+b+c)/2.\n",
    "- triangleArea(2,2,2)\n",
    "1.7320508075688772"
   ]
  },
  {
   "cell_type": "code",
   "execution_count": 13,
   "id": "93835a2b-fd7b-45c1-a64f-691acb8d824b",
   "metadata": {},
   "outputs": [
    {
     "name": "stdout",
     "output_type": "stream",
     "text": [
      "The area is  1.7320508075688772\n"
     ]
    }
   ],
   "source": [
    "import math\n",
    "\n",
    "def triangleArea(a, b, c):\n",
    "    \n",
    "    s = (a + b + c) / 2\n",
    "    \n",
    "    area = math.sqrt(s * (s - a) * (s - b) * (s - c))\n",
    "    return area\n",
    "\n",
    "\n",
    "print(\"The area is \",triangleArea(2, 2, 2))"
   ]
  },
  {
   "cell_type": "markdown",
   "id": "619f393a-f6eb-471d-9cb0-20d7af2a433d",
   "metadata": {},
   "source": [
    "# Question4"
   ]
  },
  {
   "cell_type": "markdown",
   "id": "861956b5-de03-46cd-93ff-de3e4c5124d5",
   "metadata": {},
   "source": [
    "Write a program in python to separate odd and even integers in separate arrays. Go to the editor\n",
    "Test Data :\n",
    "Input the number of elements to be stored in the array :5\n",
    "Input 5 elements in the array : element - 0 : 25\n",
    "element - 1 : 47\n",
    "element - 2 : 42\n",
    "element - 3 : 56 element - 4 : 32 Expected Output:\n",
    "The Even elements are: 42 56 32\n",
    "The Odd elements are : 25 47"
   ]
  },
  {
   "cell_type": "code",
   "execution_count": 14,
   "id": "f396bd8f-2569-4b84-a362-ea212c41267f",
   "metadata": {},
   "outputs": [
    {
     "name": "stdin",
     "output_type": "stream",
     "text": [
      "Enter the number of element  5\n",
      "Please enter number  25\n",
      "Please enter number  47\n",
      "Please enter number  42\n",
      "Please enter number  56\n",
      "Please enter number  32\n"
     ]
    },
    {
     "name": "stdout",
     "output_type": "stream",
     "text": [
      "Even elements are  [42, 56, 32]\n",
      "Odd elements are  [25, 47]\n"
     ]
    }
   ],
   "source": [
    "a = int(input(\"Enter the number of element \"))\n",
    "oddList = []\n",
    "evenList = []\n",
    "for i in range(a):\n",
    "    number = int(input(\"Please enter number \"))\n",
    "    if number%2==0:\n",
    "        evenList.append(number)\n",
    "    else:\n",
    "        oddList.append(number)\n",
    "    \n",
    "\n",
    "print(\"Even elements are \",evenList)\n",
    "print(\"Odd elements are \",oddList)\n",
    "\n",
    "     \n"
   ]
  },
  {
   "cell_type": "markdown",
   "id": "8fc6f938-9791-4df3-86bb-27dc2e241ec8",
   "metadata": {},
   "source": [
    "# Question 5\n",
    "\n",
    "a. Write a function inside(x,y,x1,y1,x2,y2) that returns True or False depending on whether the point (x,y) lies in the rectangle with lower left corner (x1,y1) and upper right corner (x2,y2).\n",
    "     >>> inside(1,1,0,0,2,3)\n",
    "     True\n",
    "     >>> inside(-1,-1,0,0,2,3)\n",
    "     False  \n",
    "     \n",
    "b. Use function inside() from part a. to write an expression that tests whether the point (1,1) lies in both of the following rectangles: one with lower left corner (0.3, 0.5) and upper right corner (1.1, 0.7) and the other with lower left corner (0.5, 0.2) and upper right corner (1.1, 2).\n"
   ]
  },
  {
   "cell_type": "code",
   "execution_count": 15,
   "id": "ee087c60-712e-40aa-ad7f-28934ce75b02",
   "metadata": {},
   "outputs": [
    {
     "name": "stdout",
     "output_type": "stream",
     "text": [
      "True\n",
      "False\n",
      "Does the Point lie in the rectangles ? \n",
      "The answer is :   False\n"
     ]
    }
   ],
   "source": [
    "# Part A\n",
    "\n",
    "\n",
    "def inside(x, y, x1, y1, x2, y2):\n",
    "    return x1 <= x <= x2 and y1 <= y <= y2\n",
    "\n",
    "\n",
    "print(inside(1, 1, 0, 0, 2, 3))  \n",
    "print(inside(-1, -1, 0, 0, 2, 3))  \n",
    "\n",
    "# Part B\n",
    "\n",
    "rec1 = inside(1, 1, 0.3, 0.5, 1.1, 0.7)\n",
    "rect2 = inside(1, 1, 0.5, 0.2, 1.1, 2)\n",
    "\n",
    "print(\"Does the Point lie in the rectangles ? \\nThe answer is :  \",rec1 and rect2) \n"
   ]
  },
  {
   "cell_type": "markdown",
   "id": "9c9d581c-cf83-4723-ba08-78ed88f3c5fb",
   "metadata": {},
   "source": [
    "# Question 6\n",
    "\n",
    "You can turn a word into pig-Latin using the following two rules (simplified):\n",
    "• If the word starts with a consonant, move that letter to the end and append\n",
    "'ay'. For example, 'happy' becomes 'appyhay' and 'pencil' becomes 'encilpay'.\n",
    "• If the word starts with a vowel, simply append 'way' to the end of the word.\n",
    "For example, 'enter' becomes 'enterway' and 'other' becomes 'otherway' . For\n",
    "our purposes, there are 5 vowels: a, e, i, o, u (so we count y as a consonant). Write a function pig() that takes a word (i.e., a string) as input and returns its pig- Latin form. Your function should still work if the input word contains upper case characters. Your output should always be lower case however.\n",
    "- pig('happy')\n",
    "'appyhay'\n",
    "- pig('Enter')\n",
    "'enterway'"
   ]
  },
  {
   "cell_type": "code",
   "execution_count": 16,
   "id": "78947a56-9b95-49dc-a15f-cd0f3b4aefad",
   "metadata": {},
   "outputs": [
    {
     "name": "stdout",
     "output_type": "stream",
     "text": [
      "For the word happy -  appyhay\n",
      "For the word Enter -  enterway\n"
     ]
    }
   ],
   "source": [
    "def pig(word):\n",
    "    vowels = 'aeiou'\n",
    "    word = word.lower() \n",
    "    first_letter = word[0]\n",
    "\n",
    "    if first_letter in vowels:\n",
    "        return word + 'way'\n",
    "    else:\n",
    "        return ''.join([word[1:], first_letter, 'ay'])\n",
    "\n",
    "\n",
    "print(\"For the word happy - \",pig('happy'))  \n",
    "print(\"For the word Enter - \",pig('Enter')) "
   ]
  },
  {
   "cell_type": "markdown",
   "id": "23ef668b-0f46-4057-8e87-0cfa64f0bec8",
   "metadata": {},
   "source": [
    "# Question 7\n",
    "\n",
    "File bloodtype1.txt records blood-types of patients (A, B, AB, O or OO) at a clinic. Write a function bldcount() that reads the file with name name and reports (i.e., prints) how many patients there are in each bloodtype.\n",
    "- bldcount('bloodtype.txt')  \n",
    "There are 10 patients of blood type A. There is one patient of blood type B. There are 10 patients of blood type AB. There are 12 patients of blood type O. There are no patients of blood type OO."
   ]
  },
  {
   "cell_type": "code",
   "execution_count": 17,
   "id": "e4ff42c9-5841-4f4a-aa0a-00f1a9d6a7bc",
   "metadata": {},
   "outputs": [
    {
     "name": "stdout",
     "output_type": "stream",
     "text": [
      "There are 13 patients of blood type AB.\n",
      "There is one patient of blood type B.\n",
      "There are 15 patients of blood type O.\n",
      "There are 15 patients of blood type A.\n"
     ]
    }
   ],
   "source": [
    "def bldcount(filename):\n",
    "    \n",
    "    number = {}\n",
    "\n",
    "    \n",
    "    with open(filename, 'r') as file:\n",
    "        \n",
    "        for line in file:\n",
    "            blood_types = line.strip().split()\n",
    "            for blood_type in blood_types:\n",
    "                number[blood_type] = number.get(blood_type, 0) + 1\n",
    "\n",
    "    \n",
    "    for blood_type, num_patients in number.items():\n",
    "        if num_patients == 1:\n",
    "            print(f'There is one patient of blood type {blood_type}.')\n",
    "        else:\n",
    "            print(f'There are {num_patients} patients of blood type {blood_type}.')\n",
    "\n",
    "\n",
    "bldcount('/Users/manyashokeen/Desktop/bloodtype1.txt')\n"
   ]
  },
  {
   "cell_type": "markdown",
   "id": "a98e392b-16e8-4e98-be8b-8616d7076477",
   "metadata": {},
   "source": [
    "# Question 8\n",
    "\n",
    "Question 8\n",
    "Write a function curconv() that takes as input:\n",
    "1. a currency represented using a string (e.g., 'JPY' for the Japanese Yen or 'EUR' for the Euro)\n",
    "2. an amount\n",
    "and then converts and returns the amount in US dollars.\n",
    "- curconv('EUR', 100)\n",
    "122.96544\n",
    "- curconv('JPY', 100)\n",
    "1.241401  \n",
    "The currency rates you will need are stored in file currencies.txt:  \n",
    "- AUD 1.0345157 Australian Dollar\n",
    "- CHF 1.0237414 Swiss Franc\n",
    "- CNY 0.1550176 Chinese Yuan\n",
    "- DKK 0.1651442 Danish Krone\n",
    "-  EUR 1.2296544 Euro\n",
    "- GBP 1.5550989 British Pound \n",
    "- HKD 0.1270207 Hong Kong Dollar\n",
    "- INR 0.0177643 Indian Rupee\n",
    "- JPY 0.01241401JapaneseYen\n",
    "- MXN 0.0751848 Mexican Peso\n",
    "- MYR 0.3145411 NOK 0.1677063 NZD 0.8003591 PHP 0.0233234 SEK 0.148269 SGD 0.788871 THB 0.0313789\n",
    "Question 9\n",
    "Mexican Peso\n",
    "Malaysian Ringgit\n",
    "Norwegian Krone\n",
    "New Zealand Dollar\n",
    "Philippine Peso\n",
    "Swedish Krona\n",
    "Singapore Dollar\n",
    "Thai Baht"
   ]
  },
  {
   "cell_type": "code",
   "execution_count": 18,
   "id": "4564070f-eab4-4d7f-9942-bc11b8f6bb61",
   "metadata": {},
   "outputs": [
    {
     "name": "stdout",
     "output_type": "stream",
     "text": [
      "The conversion is  122.96544\n",
      "The conversion is  1.241401\n"
     ]
    }
   ],
   "source": [
    "def curconv(currency, amount):\n",
    "    \n",
    "    rates = {}\n",
    "\n",
    "    \n",
    "    with open('/Users/manyashokeen/Desktop/currencies.txt', 'r') as file:\n",
    "        for line in file:\n",
    "            parts = line.split()\n",
    "            rates[parts[0]] = float(parts[1])\n",
    "\n",
    "    \n",
    "    if currency in rates:\n",
    "        return amount * rates[currency]\n",
    "    else:\n",
    "        return 'Currency not found'\n",
    "\n",
    "\n",
    "print(\"The conversion is \",curconv('EUR', 100)) \n",
    "print(\"The conversion is \",curconv('JPY', 100))  \n"
   ]
  },
  {
   "cell_type": "markdown",
   "id": "0ccb1007-51e8-4048-929a-075ed123dd48",
   "metadata": {},
   "source": [
    "# Question 9\n",
    "\n",
    "Each of the following will cause an exception (an error). Identify what type of exception each will cause.\n",
    "Trying to add incompatible variables, as in adding 6 + ‘a’\n",
    "Referring to the 12th item of a list that has only 10 items\n",
    "Using a value that is out of range for a function’s input, such as calling math.sqrt(-1.0)\n",
    "Using an undeclared variable, such as print(x) when x has not been defined\n",
    "Trying to open a file that does not exist, such as mistyping the file name or looking in the wrong directory."
   ]
  },
  {
   "cell_type": "code",
   "execution_count": 19,
   "id": "e6656455-326b-4475-ba46-ae1dd4c50a54",
   "metadata": {},
   "outputs": [
    {
     "name": "stdout",
     "output_type": "stream",
     "text": [
      "Error: unsupported operand type(s) for +: 'int' and 'str'\n",
      "Error: list index out of range\n",
      "Error: math domain error\n",
      "Error: name 'x' is not defined\n",
      "Error: [Errno 2] No such file or directory: 'fakefile.txt'\n"
     ]
    }
   ],
   "source": [
    "# import math library first\n",
    "import math\n",
    "\n",
    "try:\n",
    "    result = 6 + 'a'\n",
    "except TypeError as e:\n",
    "    print(\"Error:\", e)\n",
    "\n",
    "\n",
    "try:\n",
    "    my_list = [1, 2, 3, 4, 5, 6, 7, 8, 9, 10]\n",
    "    item = my_list[11]\n",
    "except IndexError as e:\n",
    "    print(\"Error:\", e)\n",
    "\n",
    "\n",
    "try:\n",
    "    result = math.sqrt(-1.0)\n",
    "except ValueError as e:\n",
    "    print(\"Error:\", e)\n",
    "\n",
    "\n",
    "try:\n",
    "    print(x)\n",
    "except NameError as e:\n",
    "    print(\"Error:\", e)\n",
    "\n",
    "\n",
    "try:\n",
    "    with open('fakefile.txt', 'r') as file:\n",
    "        contents = file.read()\n",
    "except FileNotFoundError as e:\n",
    "    print(\"Error:\", e)\n"
   ]
  },
  {
   "cell_type": "markdown",
   "id": "d9b3bbac-5336-45c6-82f8-22684547d235",
   "metadata": {},
   "source": [
    "# Question 10\n",
    "Encryption is the process of hiding the meaning of a text by substituting letters in the message with other letters, according to some system. If the process is successful, no one but the intended recipient can understand the encrypted message. Cryptanalysis refers to attempts to undo the encryption, even if some details of the encryption are unknown (for example, if an encrypted message has been intercepted). The first step of cryptanalysis is often to build up a table of letter frequencies in the encrypted text. Assume that the string letters is already defined as 'abcdefghijklmnopqrstuvwxyz'. Write a function called frequencies() that takes a string as its only parameter, and returns a list of integers, showing the number of times each character appears in the text. Your function may ignore any characters that are not in letters.\n",
    "- frequencies('The quick red fox got bored and went home.') [1, 1, 1, 3, 5, 1, 1, 2, 1, 0, 1, 0, 1, 2, 4, 0, 1, 2, 0, 2, 1, 0, 1, 1, 0, 0]\n",
    "- frequencies('apple')"
   ]
  },
  {
   "cell_type": "code",
   "execution_count": 20,
   "id": "0012e044-88d3-40ad-8018-99138f8f9ee2",
   "metadata": {},
   "outputs": [
    {
     "name": "stdout",
     "output_type": "stream",
     "text": [
      "[1, 1, 1, 3, 5, 1, 1, 2, 1, 0, 1, 0, 1, 2, 4, 0, 1, 2, 0, 3, 1, 0, 1, 1, 0, 0]\n",
      "[1, 0, 0, 0, 1, 0, 0, 0, 0, 0, 0, 1, 0, 0, 0, 2, 0, 0, 0, 0, 0, 0, 0, 0, 0, 0]\n"
     ]
    }
   ],
   "source": [
    "def frequencies(text):\n",
    "\n",
    "    # Here we will define the letters as a-z\n",
    "    \n",
    "    letters = 'abcdefghijklmnopqrstuvwxyz'\n",
    "    \n",
    "    frequency_list = [0] * len(letters)\n",
    "    \n",
    "    text = text.lower()\n",
    "    \n",
    "    for char in text:\n",
    "        \n",
    "        if char in letters:\n",
    "            \n",
    "            frequency_list[letters.index(char)] += 1\n",
    "    return frequency_list\n",
    "\n",
    "\n",
    "print(frequencies('The quick red fox got bored and went home.'))\n",
    "print(frequencies('apple'))\n"
   ]
  }
 ],
 "metadata": {
  "kernelspec": {
   "display_name": "Python 3 (ipykernel)",
   "language": "python",
   "name": "python3"
  },
  "language_info": {
   "codemirror_mode": {
    "name": "ipython",
    "version": 3
   },
   "file_extension": ".py",
   "mimetype": "text/x-python",
   "name": "python",
   "nbconvert_exporter": "python",
   "pygments_lexer": "ipython3",
   "version": "3.11.7"
  }
 },
 "nbformat": 4,
 "nbformat_minor": 5
}
